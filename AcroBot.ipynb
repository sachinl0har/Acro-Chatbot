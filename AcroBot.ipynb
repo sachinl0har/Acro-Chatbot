{
  "nbformat": 4,
  "nbformat_minor": 0,
  "metadata": {
    "colab": {
      "name": "AcroBot.ipynb",
      "provenance": []
    },
    "kernelspec": {
      "name": "python3",
      "display_name": "Python 3"
    },
    "language_info": {
      "name": "python"
    }
  },
  "cells": [
    {
      "cell_type": "code",
      "source": [
        "import nltk # NATURAL LANGUAGE TOOLKIT\n",
        "import numpy as np\n",
        "import string\n",
        "import random\n",
        "import warnings\n",
        "warnings.filterwarnings('ignore')"
      ],
      "metadata": {
        "id": "8xlw4YkQ2Et2"
      },
      "execution_count": 1,
      "outputs": []
    },
    {
      "cell_type": "code",
      "source": [
        "f=open('chatbot-dataset.txt','r',errors = 'ignore')\n",
        "raw_doc = f.read()\n",
        "raw_doc=raw_doc.lower() # CONVERT TEXT TO LOWERCASE\n",
        "nltk.download('punkt') # USING THE PUNKT TOKENIZER\n",
        "nltk.download('wordnet') # USING THE WORDNET DICTIONARY\n",
        "sent_tokens = nltk.sent_tokenize(raw_doc) # CONVERT DOC TO LIST OF SENTENCES\n",
        "word_tokens = nltk.word_tokenize(raw_doc) # CONVERT DOC TO LIST OF WORDS"
      ],
      "metadata": {
        "colab": {
          "base_uri": "https://localhost:8080/"
        },
        "id": "YGlSfz9Z4IBA",
        "outputId": "b0e7d18c-1752-4f4c-fed4-eb157bd639ad"
      },
      "execution_count": 3,
      "outputs": [
        {
          "output_type": "stream",
          "name": "stdout",
          "text": [
            "[nltk_data] Downloading package punkt to /root/nltk_data...\n",
            "[nltk_data]   Unzipping tokenizers/punkt.zip.\n",
            "[nltk_data] Downloading package wordnet to /root/nltk_data...\n",
            "[nltk_data]   Unzipping corpora/wordnet.zip.\n"
          ]
        }
      ]
    },
    {
      "cell_type": "code",
      "source": [
        "sent_tokens[:2]"
      ],
      "metadata": {
        "colab": {
          "base_uri": "https://localhost:8080/"
        },
        "id": "uvpyI2lU4ReF",
        "outputId": "8a06ac5a-fe80-4429-94d6-1565c2d173b2"
      },
      "execution_count": 4,
      "outputs": [
        {
          "output_type": "execute_result",
          "data": {
            "text/plain": [
              "['hi there, how are you !', '?']"
            ]
          },
          "metadata": {},
          "execution_count": 4
        }
      ]
    },
    {
      "cell_type": "code",
      "source": [
        "word_tokens[:2]"
      ],
      "metadata": {
        "colab": {
          "base_uri": "https://localhost:8080/"
        },
        "id": "p4kfcUN24gg4",
        "outputId": "2e6ed4ec-f818-434f-ce0b-511b8be81829"
      },
      "execution_count": 5,
      "outputs": [
        {
          "output_type": "execute_result",
          "data": {
            "text/plain": [
              "['hi', 'there']"
            ]
          },
          "metadata": {},
          "execution_count": 5
        }
      ]
    },
    {
      "cell_type": "markdown",
      "source": [
        "# Text Preprocessing"
      ],
      "metadata": {
        "id": "B1V1NTO44lDc"
      }
    },
    {
      "cell_type": "code",
      "source": [
        "lemmer=nltk.stem.WordNetLemmatizer()\n",
        "# WordNet is a semantically- oriented dictionary of english included in NLTk\n",
        "def LemTokens(tokens):\n",
        "  return [lemmer.lemmatize(token) for token in tokens]\n",
        "remove_punct_dict = dict((ord(punct), None) for punct in string.punctuation)\n",
        "def LemNormalize(text):\n",
        "  return LemTokens(nltk.word_tokenize(text.lower().translate(remove_punct_dict)))"
      ],
      "metadata": {
        "id": "Q3UUu0M14inW"
      },
      "execution_count": 6,
      "outputs": []
    },
    {
      "cell_type": "markdown",
      "source": [
        "# Defining the greeting Function"
      ],
      "metadata": {
        "id": "ziiqowfm4wWm"
      }
    },
    {
      "cell_type": "code",
      "source": [
        "GREET_INPUTS = (\"hello\", \"hi\", \"greetings\", \"sup\", \"whats up\", \"hey\")\n",
        "GREET_RESPONSES = [\"hi\", \"hey\", \"hi there\", \"hello\", \"I'm glad! you are talking to me\"]\n",
        "def greet(sentence):\n",
        "  for word in sentence.split():\n",
        "    if word.lower() in GREET_INPUTS:\n",
        "      return random.choice(GREET_RESPONSES)"
      ],
      "metadata": {
        "id": "Je734brA4p7t"
      },
      "execution_count": 7,
      "outputs": []
    },
    {
      "cell_type": "markdown",
      "source": [
        "# Response Generation"
      ],
      "metadata": {
        "id": "2NJikEb842B8"
      }
    },
    {
      "cell_type": "code",
      "source": [
        "from sklearn.feature_extraction.text import TfidfVectorizer\n",
        "from sklearn.metrics.pairwise import cosine_similarity"
      ],
      "metadata": {
        "id": "LmsPJw_94zVd"
      },
      "execution_count": 8,
      "outputs": []
    },
    {
      "cell_type": "code",
      "source": [
        "def response(user_response):\n",
        "  robo1_response=''\n",
        "  TfidVec = TfidfVectorizer(tokenizer=LemNormalize, stop_words='english')\n",
        "  tfidf = TfidVec.fit_transform(sent_tokens)\n",
        "  vals = cosine_similarity(tfidf[-1], tfidf)\n",
        "  idx=vals.argsort()[0][-2]\n",
        "  flat=vals.flatten()\n",
        "  flat.sort()\n",
        "  req_tfidf = flat[-2]\n",
        "  if(req_tfidf==0):\n",
        "    robo1_response=robo1_response+\"I'm Sorry! I didn't get you\"\n",
        "    return robo1_response\n",
        "  else:\n",
        "    robo1_response = robo1_response+sent_tokens[idx]\n",
        "    return robo1_response"
      ],
      "metadata": {
        "id": "2ec_Yyem45G8"
      },
      "execution_count": 9,
      "outputs": []
    },
    {
      "cell_type": "markdown",
      "source": [
        "# Conversation Start/End"
      ],
      "metadata": {
        "id": "6oonIs8W5H5F"
      }
    },
    {
      "cell_type": "code",
      "source": [
        "flag=True\n",
        "print(\"Acro : My name is Acro. Let's have a conversation! Also, if you want to exit any time, just type Bye Acro!\")\n",
        "while(flag==True):\n",
        "  user_response = input()\n",
        "  user_response=user_response.lower()\n",
        "  if(user_response!='bye'):\n",
        "    if(user_response=='acro bye' or user_response=='bye acro'):\n",
        "      flag=False\n",
        "      print(\"Acro : You are Welcome Bye! Have a Nice Day..\")\n",
        "    else:\n",
        "      if(greet(user_response)!=None):\n",
        "        print(\"Acro : \"+greet(user_response))\n",
        "      else:\n",
        "        sent_tokens.append(user_response)\n",
        "        word_tokens=word_tokens+nltk.word_tokenize(user_response)\n",
        "        final_words=list(set(word_tokens))\n",
        "        print(\"Acro : \",end=\"\")\n",
        "        print(response(user_response))\n",
        "        sent_tokens.remove(user_response)\n",
        "  else:\n",
        "    flag=False\n",
        "    print(\"Acro : You are Welcome Bye! Have a Nice Day..\")"
      ],
      "metadata": {
        "colab": {
          "base_uri": "https://localhost:8080/"
        },
        "id": "CmSiSs5J5CiZ",
        "outputId": "81db3f88-d779-4a34-ecbe-aa4945ed9d5c"
      },
      "execution_count": 10,
      "outputs": [
        {
          "output_type": "stream",
          "name": "stdout",
          "text": [
            "Acro : My name is Acro. Let's have a conversation! Also, if you want to exit any time, just type Bye Acro!\n",
            "Hii Acro\n",
            "Acro : hii .\n",
            "how are you\n",
            "Acro : I'm Sorry! I didn't get you\n",
            "ok what is data science\n",
            "Acro : \"data science\".\n",
            "wow nice answer\n",
            "Acro : wow.\n",
            "who are you\n",
            "Acro : I'm Sorry! I didn't get you\n",
            "ok you are not a good chatbot\n",
            "Acro : is a chatbot, very smart and funny !\n",
            "really?\n",
            "Acro : really!?\n",
            "what is your name?\n",
            "Acro : I'm Sorry! I didn't get you\n",
            "acro\n",
            "Acro : ......\t\t\n",
            "acro?\n",
            "ok bye\n",
            "Acro : bye !\n",
            "acro bye\n",
            "Acro : You are Welcome Bye! Have a Nice Day..\n"
          ]
        }
      ]
    }
  ]
}